{
 "cells": [
  {
   "cell_type": "markdown",
   "metadata": {},
   "source": [
    "# Microscopic Scattering for N=2\n",
    "\n"
   ]
  },
  {
   "cell_type": "markdown",
   "metadata": {},
   "source": [
    "We will staart for two neutrinos. Lets assume that the first particle is A1 and the second particle is B1. Their initial state is\n",
    "\n",
    "$$\n",
    "|A1\\rangle= \\begin{bmatrix}    1\\\\0    \\end{bmatrix}, \\quad |B1\\rangle= \\begin{bmatrix}    0\\\\1    \\end{bmatrix} \\\\\n",
    "|\\Psi\\rangle=|A1\\rangle\\otimes|B1\\rangle\\\\\n",
    "|\\Psi\\rangle= \\begin{bmatrix}    1\\\\0    \\end{bmatrix}\\otimes\\begin{bmatrix}    0\\\\1    \\end{bmatrix}\\\\\n",
    "|\\Psi\\rangle= \\begin{bmatrix}    0\\\\1\\\\0\\\\0    \\end{bmatrix}\n",
    "$$"
   ]
  },
  {
   "cell_type": "markdown",
   "metadata": {},
   "source": [
    "Evolution operator is following.\n",
    "\n",
    "$$\n",
    "U(t)=e^{-iHt} \\approx 1-iHt\n",
    "$$\n",
    "\n",
    "Hamiltonian is following.\n",
    "\n",
    "\\begin{align*}\n",
    "    H=& \\mu_{0} ~~\\vec{\\sigma}_{A1} \\cdot \\vec{\\sigma}_{B1} \\\\\n",
    "     =& \\mu_{0} ~~\\sigma_{A1}^{x} \\cdot \\sigma_{B1}^{x} + \\sigma_{A1}^{y} \\cdot \\sigma_{B1}^{y} + \\sigma_{A1}^{z} \\cdot \\sigma_{B1}^{z} \\\\\n",
    "     =& \\mu_{0} ~~\\left(\\sigma^{x}\\otimes I \\right)\\cdot \\left(I\\otimes \\sigma^{x} \\right) + \\left(\\sigma^{y}\\otimes I \\right)\\cdot \\left(I\\otimes \\sigma^{y} \\right) + \\left(\\sigma^{z}\\otimes I \\right)\\cdot \\left(I\\otimes \\sigma^{z} \\right) \\\\\n",
    "\\end{align*}\n",
    "\n",
    "Here $\\sigma^{x}$, $\\sigma^{y}$ and $\\sigma^{z}$ are Pauli matrices.\n",
    "\n",
    "\\begin{align*}\n",
    "   H =& \\mu_{0} ~~\\left(\\begin{bmatrix}    0 & 1\\\\1 & 0    \\end{bmatrix}\\otimes \\begin{bmatrix}    1 & 0\\\\0 & 1    \\end{bmatrix}\\right)\\cdot \n",
    "                  \\left(\\begin{bmatrix}    1 & 0\\\\0 & 1    \\end{bmatrix}\\otimes \\begin{bmatrix}    0 & 1\\\\1 & 0    \\end{bmatrix}\\right)\\\\\n",
    "    &+ \\left(\\begin{bmatrix}    0 & -i\\\\i & 0    \\end{bmatrix}\\otimes \\begin{bmatrix}    1 & 0\\\\0 & 1    \\end{bmatrix}\\right)\\cdot\n",
    "       \\left(\\begin{bmatrix}    1 & 0\\\\0 & 1     \\end{bmatrix}\\otimes \\begin{bmatrix}    0 & -i\\\\i & 0   \\end{bmatrix}\\right)\\\\\n",
    "    &+ \\left(\\begin{bmatrix}    1 & 0\\\\0 & -1    \\end{bmatrix}\\otimes \\begin{bmatrix}    1 & 0\\\\0 & 1    \\end{bmatrix}\\right)\\cdot\n",
    "       \\left(\\begin{bmatrix}    1 & 0\\\\0 & 1     \\end{bmatrix}\\otimes \\begin{bmatrix}    1 & 0\\\\0 & -1   \\end{bmatrix}\\right)\\\\\n",
    "   H =& \\mu_{0} ~~\\left( \\begin{bmatrix}    0 & 0 & 1 & 0\\\\0 & 0 & 0 & 1 \\\\ 1 & 0 & 0 & 0\\\\ 0 & 1 & 0& 0    \\end{bmatrix} \\right) \\cdot \n",
    "                  \\left( \\begin{bmatrix}    0 & 1 & 0 & 0\\\\1 & 0 & 0 & 0 \\\\ 0 & 0 & 0 & 1\\\\ 0 & 0 & 1& 0    \\end{bmatrix} \\right)\\\\\n",
    "    &+ \\left( \\begin{bmatrix}    0 & 0 & -i & 0\\\\0 & 0 & 0 & -i \\\\ i & 0 & 0 & 0\\\\ 0 & i & 0& 0    \\end{bmatrix} \\right) \\cdot \n",
    "       \\left( \\begin{bmatrix}    0 & -i & 0 & 0\\\\i & 0 & 0 & 0 \\\\ 0 & 0 & 0 & -i\\\\ 0 & 0 & i& 0    \\end{bmatrix} \\right)\\\\\n",
    "    &+ \\left( \\begin{bmatrix}    1 & 0 & 0 & 0\\\\0 & 1 & 0 & 0 \\\\ 0 & 0 & -1 & 0\\\\ 0 & 0 & 0& -1    \\end{bmatrix} \\right) \\cdot\n",
    "       \\left( \\begin{bmatrix}    1 & 0 & 0 & 0\\\\0 & -1 & 0 & 0 \\\\ 0 & 0 & 1 & 0\\\\ 0 & 0 & 0& -1    \\end{bmatrix} \\right)\\\\\n",
    "   H =& \\mu_{0} ~~\\left( \\begin{bmatrix}    0 & 0 & 0 & 1 \\\\0 & 0 & 1 & 0 \\\\ 0 & 1 & 0 & 0 \\\\ 1  & 0 & 0& 0    \\end{bmatrix} \\right)\n",
    "                + \\left( \\begin{bmatrix}    0 & 0 & 0 & -1\\\\0 & 0 & 1 & 0 \\\\ 0 & 1 & 0 & 0 \\\\ -1 & 0 & 0& 0    \\end{bmatrix} \\right)\n",
    "                + \\left( \\begin{bmatrix}    1 & 0 & 0 & 0 \\\\0 & -1 & 0 & 0 \\\\ 0 & 0 & -1 & 0\\\\ 0  & 0 & 0& 1    \\end{bmatrix} \\right)\n",
    "\\end{align*}"
   ]
  },
  {
   "cell_type": "markdown",
   "metadata": {},
   "source": [
    "Hamiltonian becomes\n",
    "\n",
    "$$\n",
    "H= \\mu_{0}\\begin{bmatrix}   1 & 0 & 0 & 0 \\\\0 & -1 & 2 & 0 \\\\ 0 & 2 & -1 & 0\\\\ 0  & 0 & 0& 1    \\end{bmatrix}\n",
    "$$"
   ]
  },
  {
   "cell_type": "code",
   "execution_count": 3,
   "metadata": {},
   "outputs": [
    {
     "name": "stdout",
     "output_type": "stream",
     "text": [
      "Hamiltonian for the first level is:\n",
      "[[ 1.+0.j  0.+0.j  0.+0.j  0.+0.j]\n",
      " [ 0.+0.j -1.+0.j  2.+0.j  0.+0.j]\n",
      " [ 0.+0.j  2.+0.j -1.+0.j  0.+0.j]\n",
      " [ 0.+0.j  0.+0.j  0.+0.j  1.+0.j]]\n"
     ]
    }
   ],
   "source": [
    "import numpy as np\n",
    "\n",
    "# Sigma matrices\n",
    "# sigma_mat= [sigma_x, sigma_y, sigma_z]\n",
    "sigma_mat= np.array([[[0, 1], \n",
    "                      [1, 0]], [[0, -1j], \n",
    "                                [1j, 0]], [[1, 0], \n",
    "                                           [0, -1]]])\n",
    "# Hamiltonian for the first level for 2 particles\n",
    "hamiltonian_level1_2particle= np.zeros((4, 4), dtype= complex)\n",
    "for it in range(3):\n",
    "    hamiltonian_level1_2particle= \\\n",
    "        hamiltonian_level1_2particle+ \\\n",
    "            np.kron(sigma_mat[it], np.eye(2)) @ np.kron(np.eye(2), sigma_mat[it])\n",
    "\n",
    "# mu_0 in MeV\n",
    "mu_0__MeV= 1\n",
    "# Multiply by mu_0\n",
    "hamiltonian_level1_2particle= mu_0__MeV* hamiltonian_level1_2particle\n",
    "\n",
    "print(f\"Hamiltonian for the first level is:\\n{hamiltonian_level1_2particle}\")"
   ]
  },
  {
   "cell_type": "markdown",
   "metadata": {},
   "source": [
    "Lets apply this Hamiltonian to the initial state.\n",
    "\n",
    "$$\n",
    "|\\Psi(t)\\rangle=U(t)|\\Psi\\rangle\\\\\n",
    "|\\Psi(t)\\rangle=\\left(I_{4}-iH\\delta t\\right)|\\Psi\\rangle\\\\\n",
    "|\\Psi(t)\\rangle=\\left(\\begin{bmatrix}    1 & 0 & 0 & 0\\\\0 & 1 & 0 & 0\\\\0 & 0 & 1 & 0\\\\0 & 0 & 0 & 1    \\end{bmatrix}-i\\delta t\\mu_{0}\\begin{bmatrix}   1 & 0 & 0 & 0 \\\\0 & -1 & 2 & 0 \\\\ 0 & 2 & -1 & 0\\\\ 0  & 0 & 0& 1    \\end{bmatrix}\\right)\\begin{bmatrix}    0\\\\1\\\\0\\\\0    \\end{bmatrix}\n",
    "$$"
   ]
  },
  {
   "cell_type": "markdown",
   "metadata": {},
   "source": [
    "$$\n",
    "|\\Psi(t)\\rangle=\\begin{bmatrix}    1-i\\mu_{0}\\delta t & 0 & 0 & 0\\\\0 & 1+i\\mu_{0}\\delta t & -2i\\mu_{0}\\delta t & 0\\\\0 & -2i\\mu_{0}\\delta t & 1+i\\mu_{0}\\delta t & 0\\\\0 & 0 & 0 & 1-i\\mu_{0}\\delta t    \\end{bmatrix}\\begin{bmatrix}    0\\\\1\\\\0\\\\0    \\end{bmatrix}\n",
    "$$"
   ]
  },
  {
   "cell_type": "markdown",
   "metadata": {},
   "source": [
    "Final state is\n",
    "\n",
    "$$\n",
    "|\\Psi(t)\\rangle=\\begin{bmatrix}    0\\\\1+i\\mu_{0}\\delta t\\\\-2i\\mu_{0}\\delta t\\\\0    \\end{bmatrix}\n",
    "$$"
   ]
  },
  {
   "cell_type": "code",
   "execution_count": 4,
   "metadata": {},
   "outputs": [
    {
     "name": "stdout",
     "output_type": "stream",
     "text": [
      "Psi(t)> = (mu0 [MeV]=1 and delta t [1/MeV]=1)\n",
      " [0.+0.j 1.+1.j 0.-2.j 0.+0.j]\n"
     ]
    }
   ],
   "source": [
    "delta_t__1_MeV= 1\n",
    "\n",
    "# Create All Psi Vector\n",
    "psiAll_2Particle= np.zeros((2, 4), dtype= complex)\n",
    "# Initial State\n",
    "psiAll_2Particle[0]= np.array([0, 1, 0, 0])\n",
    "# Final State\n",
    "psiAll_2Particle[1]= (np.eye(4)- 1j* hamiltonian_level1_2particle* delta_t__1_MeV) @ psiAll_2Particle[0]\n",
    "# Print Final State\n",
    "print(f\"Psi(t)> = (mu0 [MeV]={mu_0__MeV} and delta t [1/MeV]={delta_t__1_MeV})\\n {psiAll_2Particle[1]}\")\n"
   ]
  }
 ],
 "metadata": {
  "kernelspec": {
   "display_name": "Python 3",
   "language": "python",
   "name": "python3"
  },
  "language_info": {
   "codemirror_mode": {
    "name": "ipython",
    "version": 3
   },
   "file_extension": ".py",
   "mimetype": "text/x-python",
   "name": "python",
   "nbconvert_exporter": "python",
   "pygments_lexer": "ipython3",
   "version": "3.10.12"
  }
 },
 "nbformat": 4,
 "nbformat_minor": 2
}
